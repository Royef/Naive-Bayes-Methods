{
 "cells": [
  {
   "cell_type": "markdown",
   "metadata": {},
   "source": [
    "# Homework - Part 3 - Gaussian Naive Bayes - Implement"
   ]
  },
  {
   "cell_type": "markdown",
   "metadata": {
    "collapsed": true
   },
   "source": [
    "1. Implement Gaussian NB for the data below. This means: calculate prior probabilities and conditional pdfs \n",
    "2. Compare test results to those obtained by sklearn Gaussian NB\n",
    "3. Explain why the second to last (9th) test sample has label 1 and not 0\n"
   ]
  },
  {
   "cell_type": "code",
   "execution_count": 1,
   "metadata": {},
   "outputs": [],
   "source": [
    "# Data\n",
    "import numpy as np\n",
    "X_train = np.asarray([25.2, 19.3, 18.5, 21.7, 20.1, 24.3, 22.8, 23.1, 19.8,   # class 0\n",
    "                      27.3, 30.1, 17.4, 29.5, 15.1]).reshape(-1,1)            # class 1\n",
    "                     \n",
    "y_train = np.asarray([0,0,0,0,0,0,0,0,0,1,1,1,1,1])\n",
    "\n",
    "X_test = np.asarray([17.1, 21.8, 18.1, 31.7, 39.2, 20.4, 27.1, 30.2, 7.1, 25.4]).reshape(-1,1)       \n",
    "y_test = np.asarray([  0,   0,    0,    1,    1,    0,    1,     1,    1,   0])        "
   ]
  },
  {
   "cell_type": "code",
   "execution_count": 2,
   "metadata": {},
   "outputs": [
    {
     "name": "stdout",
     "output_type": "stream",
     "text": [
      "Prior of class 0: 0.643\n",
      "Prior of class 1: 0.357\n"
     ]
    }
   ],
   "source": [
    "#Calculate the priors\n",
    "class_0_count = np.count_nonzero(y_train == 0)\n",
    "class_1_count = np.count_nonzero(y_train == 1)\n",
    "\n",
    "total_count = len(y_train)\n",
    "\n",
    "class_0_prior = class_0_count / total_count\n",
    "class_1_prior = class_1_count / total_count\n",
    "\n",
    "#Print the priors\n",
    "print(\"Prior of class 0: {:.3f}\".format(class_0_prior))\n",
    "print(\"Prior of class 1: {:.3f}\".format(class_1_prior))"
   ]
  },
  {
   "cell_type": "code",
   "execution_count": 3,
   "metadata": {},
   "outputs": [
    {
     "name": "stdout",
     "output_type": "stream",
     "text": [
      "Mean of class 0: 21.644\n",
      "Mean of class 1: 23.880\n",
      "Standard deviation of class 0: 2.219\n",
      "Standard deviation of class 1: 6.341\n"
     ]
    }
   ],
   "source": [
    "#Subset of X_train to class 0 and class 1 \n",
    "X_train_class0 = X_train[y_train == 0]  \n",
    "X_train_class1 = X_train[y_train == 1]    \n",
    "\n",
    "mu_class0 = np.mean(X_train_class0)\n",
    "mu_class1 = np.mean(X_train_class1)\n",
    "\n",
    "sd_class0 = np.std(X_train_class0)\n",
    "sd_class1 = np.std(X_train_class1)\n",
    "\n",
    "print(\"Mean of class 0: {:.3f}\".format(mu_class0))\n",
    "print(\"Mean of class 1: {:.3f}\".format(mu_class1))\n",
    "print(\"Standard deviation of class 0: {:.3f}\".format(sd_class0))\n",
    "print(\"Standard deviation of class 1: {:.3f}\".format(sd_class1))"
   ]
  },
  {
   "cell_type": "code",
   "execution_count": 4,
   "metadata": {},
   "outputs": [
    {
     "name": "stdout",
     "output_type": "stream",
     "text": [
      "Predicted classes:  [0, 0, 0, 1, 1, 0, 1, 1, 1, 0]\n",
      "Accuracy: 100.0%\n"
     ]
    }
   ],
   "source": [
    "import math\n",
    "\n",
    "#Building the model\n",
    "y_pred = []\n",
    "for i in X_test:\n",
    "    #Calculate continuous pdf for class 0\n",
    "    conti_pdf_class0 = (1 / (math.sqrt(2 * math.pi * sd_class0**2))) * math.exp(-0.5*((i - mu_class0) / sd_class0)**2)\n",
    "    \n",
    "    #Calculate continuous pdf for class 1\n",
    "    conti_pdf_class1 = (1 / (math.sqrt(2 * math.pi * sd_class1**2))) * math.exp(-0.5*((i - mu_class1) / sd_class1)**2)\n",
    "    \n",
    "    #Calculate posterior probability for class 0\n",
    "    prob_class0 = conti_pdf_class0 * class_0_prior\n",
    "    \n",
    "    #Calculate posterior probability for class 1\n",
    "    prob_class1 = conti_pdf_class1 * class_1_prior\n",
    "    \n",
    "    #MAP classifier\n",
    "    if prob_class0 > prob_class1:\n",
    "        y_pred.append(0)\n",
    "    else:\n",
    "        y_pred.append(1)\n",
    "        \n",
    "print(\"Predicted classes: \", y_pred)\n",
    "\n",
    "#Accuracy\n",
    "accuracy = sum(y_test == y_pred) / len(y_test) * 100\n",
    "print(\"Accuracy: {:.1f}%\".format(accuracy))"
   ]
  },
  {
   "cell_type": "code",
   "execution_count": 5,
   "metadata": {},
   "outputs": [
    {
     "name": "stdout",
     "output_type": "stream",
     "text": [
      "Accuracy: 100.0%\n"
     ]
    }
   ],
   "source": [
    "from sklearn.naive_bayes import GaussianNB\n",
    "\n",
    "#Gaussian classifier from sklearn\n",
    "model = GaussianNB()\n",
    "model.fit(X_train, y_train)\n",
    "y_pred_model = model.predict(X_test)\n",
    "\n",
    "model_accuracy = sum(y_pred_model == y_test) / len(y_pred_model) * 100\n",
    "print(\"Accuracy: {:.1f}%\".format(model_accuracy))"
   ]
  },
  {
   "cell_type": "code",
   "execution_count": 6,
   "metadata": {},
   "outputs": [
    {
     "name": "stdout",
     "output_type": "stream",
     "text": [
      "The two classifiers are equivalent and predict the same classes.\n",
      "[ True  True  True  True  True  True  True  True  True  True]\n"
     ]
    }
   ],
   "source": [
    "#Equal check\n",
    "if np.array_equal(y_pred, y_pred_model):\n",
    "    print(\"The two classifiers are equivalent and predict the same classes.\")\n",
    "else:\n",
    "    print(\"The two classifiers are different.\")\n",
    "    \n",
    "print(y_pred == y_pred_model)"
   ]
  },
  {
   "cell_type": "markdown",
   "metadata": {},
   "source": [
    "### 3.\n",
    "The reason why the second to last (9th) test sample has label 1 and not 0 is because the data appears to follow a Gaussian distribution, where most of the instances close to the mean are labeled as 0, and those that are far from the mean are labeled as 1. In this case, the 9th test sample has a small value of 7.1, which is much smaller than the other values in the data. As a result, it is considered an outlier and is far from the mean, which leads to it being labeled as 1."
   ]
  },
  {
   "cell_type": "code",
   "execution_count": null,
   "metadata": {},
   "outputs": [],
   "source": []
  }
 ],
 "metadata": {
  "kernelspec": {
   "display_name": "Python 3 (ipykernel)",
   "language": "python",
   "name": "python3"
  },
  "language_info": {
   "codemirror_mode": {
    "name": "ipython",
    "version": 3
   },
   "file_extension": ".py",
   "mimetype": "text/x-python",
   "name": "python",
   "nbconvert_exporter": "python",
   "pygments_lexer": "ipython3",
   "version": "3.9.13"
  }
 },
 "nbformat": 4,
 "nbformat_minor": 2
}
