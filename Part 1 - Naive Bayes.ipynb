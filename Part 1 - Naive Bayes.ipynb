{
 "cells": [
  {
   "cell_type": "markdown",
   "metadata": {},
   "source": [
    "# Homework - Part 1 - Naive Bayes"
   ]
  },
  {
   "cell_type": "markdown",
   "metadata": {},
   "source": [
    "# Naive Bayes"
   ]
  },
  {
   "cell_type": "markdown",
   "metadata": {},
   "source": [
    "## Spam detector for SMS messages\n",
    "\n",
    "We will use Naive Bayes method to calssify SMS messages as spam or ham (i.e., non-spam). To that end, we will use three libraries:\n",
    "1. skllearn - for Naive Bayes\n",
    "2. pandas - for data handling\n",
    "3. nltk - for manipulation of text\n",
    "\n"
   ]
  },
  {
   "cell_type": "markdown",
   "metadata": {},
   "source": [
    "## 1. Loading data\n",
    "\n",
    "The SMS Spam Collection contains 5,572 messages, tagged according being ham (legitimate) or spam. \n",
    "The dataset has the format [label] [tab] [message], which looks something like this:\n",
    "\n",
    "ham &emsp; Go until jurong point, crazy.. Available only in bugis n great world la e buffet... Cine there got amore wat... <br>\n",
    "ham &emsp; Ok lar... Joking wif u oni... <br>\n",
    "ham\t&emsp; U dun say so early hor... U c already then say..."
   ]
  },
  {
   "cell_type": "code",
   "execution_count": 3,
   "metadata": {},
   "outputs": [],
   "source": [
    "import pandas as pd\n",
    "\n",
    "df = pd.read_csv('SMSSpamCollection', \n",
    "                   sep='\\t', \n",
    "                   header=None,\n",
    "                   names=['label', 'message'])"
   ]
  },
  {
   "cell_type": "code",
   "execution_count": 4,
   "metadata": {},
   "outputs": [
    {
     "data": {
      "text/html": [
       "<div>\n",
       "<style scoped>\n",
       "    .dataframe tbody tr th:only-of-type {\n",
       "        vertical-align: middle;\n",
       "    }\n",
       "\n",
       "    .dataframe tbody tr th {\n",
       "        vertical-align: top;\n",
       "    }\n",
       "\n",
       "    .dataframe thead th {\n",
       "        text-align: right;\n",
       "    }\n",
       "</style>\n",
       "<table border=\"1\" class=\"dataframe\">\n",
       "  <thead>\n",
       "    <tr style=\"text-align: right;\">\n",
       "      <th></th>\n",
       "      <th>label</th>\n",
       "      <th>message</th>\n",
       "    </tr>\n",
       "  </thead>\n",
       "  <tbody>\n",
       "    <tr>\n",
       "      <th>0</th>\n",
       "      <td>ham</td>\n",
       "      <td>Go until jurong point, crazy.. Available only ...</td>\n",
       "    </tr>\n",
       "    <tr>\n",
       "      <th>1</th>\n",
       "      <td>ham</td>\n",
       "      <td>Ok lar... Joking wif u oni...</td>\n",
       "    </tr>\n",
       "    <tr>\n",
       "      <th>2</th>\n",
       "      <td>spam</td>\n",
       "      <td>Free entry in 2 a wkly comp to win FA Cup fina...</td>\n",
       "    </tr>\n",
       "    <tr>\n",
       "      <th>3</th>\n",
       "      <td>ham</td>\n",
       "      <td>U dun say so early hor... U c already then say...</td>\n",
       "    </tr>\n",
       "    <tr>\n",
       "      <th>4</th>\n",
       "      <td>ham</td>\n",
       "      <td>Nah I don't think he goes to usf, he lives aro...</td>\n",
       "    </tr>\n",
       "  </tbody>\n",
       "</table>\n",
       "</div>"
      ],
      "text/plain": [
       "  label                                            message\n",
       "0   ham  Go until jurong point, crazy.. Available only ...\n",
       "1   ham                      Ok lar... Joking wif u oni...\n",
       "2  spam  Free entry in 2 a wkly comp to win FA Cup fina...\n",
       "3   ham  U dun say so early hor... U c already then say...\n",
       "4   ham  Nah I don't think he goes to usf, he lives aro..."
      ]
     },
     "execution_count": 4,
     "metadata": {},
     "output_type": "execute_result"
    }
   ],
   "source": [
    "df.head()"
   ]
  },
  {
   "cell_type": "markdown",
   "metadata": {
    "collapsed": true
   },
   "source": [
    "## 2. Data Preprocessing"
   ]
  },
  {
   "cell_type": "markdown",
   "metadata": {},
   "source": [
    "### Exercise:\n",
    "Do the following:\n",
    "1. Change the labels of ham into 0 and spam into 1\n",
    "2. Convert all messages to lower case\n",
    "3. Find the distribution of messages. Namely, how many spam and how many ham SMS messages there are. What is their percetage of total messages?"
   ]
  },
  {
   "cell_type": "markdown",
   "metadata": {},
   "source": [
    "### Solution:"
   ]
  },
  {
   "cell_type": "code",
   "execution_count": 5,
   "metadata": {},
   "outputs": [
    {
     "data": {
      "text/html": [
       "<div>\n",
       "<style scoped>\n",
       "    .dataframe tbody tr th:only-of-type {\n",
       "        vertical-align: middle;\n",
       "    }\n",
       "\n",
       "    .dataframe tbody tr th {\n",
       "        vertical-align: top;\n",
       "    }\n",
       "\n",
       "    .dataframe thead th {\n",
       "        text-align: right;\n",
       "    }\n",
       "</style>\n",
       "<table border=\"1\" class=\"dataframe\">\n",
       "  <thead>\n",
       "    <tr style=\"text-align: right;\">\n",
       "      <th></th>\n",
       "      <th>label</th>\n",
       "      <th>message</th>\n",
       "    </tr>\n",
       "  </thead>\n",
       "  <tbody>\n",
       "    <tr>\n",
       "      <th>0</th>\n",
       "      <td>0</td>\n",
       "      <td>Go until jurong point, crazy.. Available only ...</td>\n",
       "    </tr>\n",
       "    <tr>\n",
       "      <th>1</th>\n",
       "      <td>0</td>\n",
       "      <td>Ok lar... Joking wif u oni...</td>\n",
       "    </tr>\n",
       "    <tr>\n",
       "      <th>2</th>\n",
       "      <td>1</td>\n",
       "      <td>Free entry in 2 a wkly comp to win FA Cup fina...</td>\n",
       "    </tr>\n",
       "    <tr>\n",
       "      <th>3</th>\n",
       "      <td>0</td>\n",
       "      <td>U dun say so early hor... U c already then say...</td>\n",
       "    </tr>\n",
       "    <tr>\n",
       "      <th>4</th>\n",
       "      <td>0</td>\n",
       "      <td>Nah I don't think he goes to usf, he lives aro...</td>\n",
       "    </tr>\n",
       "  </tbody>\n",
       "</table>\n",
       "</div>"
      ],
      "text/plain": [
       "   label                                            message\n",
       "0      0  Go until jurong point, crazy.. Available only ...\n",
       "1      0                      Ok lar... Joking wif u oni...\n",
       "2      1  Free entry in 2 a wkly comp to win FA Cup fina...\n",
       "3      0  U dun say so early hor... U c already then say...\n",
       "4      0  Nah I don't think he goes to usf, he lives aro..."
      ]
     },
     "execution_count": 5,
     "metadata": {},
     "output_type": "execute_result"
    }
   ],
   "source": [
    "# Part 1 - change ham to 0 and spam to 1\n",
    "\n",
    "df['label'] = df['label'].map({'ham':0, 'spam':1})\n",
    "df.head()"
   ]
  },
  {
   "cell_type": "code",
   "execution_count": 6,
   "metadata": {},
   "outputs": [
    {
     "data": {
      "text/html": [
       "<div>\n",
       "<style scoped>\n",
       "    .dataframe tbody tr th:only-of-type {\n",
       "        vertical-align: middle;\n",
       "    }\n",
       "\n",
       "    .dataframe tbody tr th {\n",
       "        vertical-align: top;\n",
       "    }\n",
       "\n",
       "    .dataframe thead th {\n",
       "        text-align: right;\n",
       "    }\n",
       "</style>\n",
       "<table border=\"1\" class=\"dataframe\">\n",
       "  <thead>\n",
       "    <tr style=\"text-align: right;\">\n",
       "      <th></th>\n",
       "      <th>label</th>\n",
       "      <th>message</th>\n",
       "    </tr>\n",
       "  </thead>\n",
       "  <tbody>\n",
       "    <tr>\n",
       "      <th>0</th>\n",
       "      <td>0</td>\n",
       "      <td>go until jurong point, crazy.. available only ...</td>\n",
       "    </tr>\n",
       "    <tr>\n",
       "      <th>1</th>\n",
       "      <td>0</td>\n",
       "      <td>ok lar... joking wif u oni...</td>\n",
       "    </tr>\n",
       "    <tr>\n",
       "      <th>2</th>\n",
       "      <td>1</td>\n",
       "      <td>free entry in 2 a wkly comp to win fa cup fina...</td>\n",
       "    </tr>\n",
       "    <tr>\n",
       "      <th>3</th>\n",
       "      <td>0</td>\n",
       "      <td>u dun say so early hor... u c already then say...</td>\n",
       "    </tr>\n",
       "    <tr>\n",
       "      <th>4</th>\n",
       "      <td>0</td>\n",
       "      <td>nah i don't think he goes to usf, he lives aro...</td>\n",
       "    </tr>\n",
       "  </tbody>\n",
       "</table>\n",
       "</div>"
      ],
      "text/plain": [
       "   label                                            message\n",
       "0      0  go until jurong point, crazy.. available only ...\n",
       "1      0                      ok lar... joking wif u oni...\n",
       "2      1  free entry in 2 a wkly comp to win fa cup fina...\n",
       "3      0  u dun say so early hor... u c already then say...\n",
       "4      0  nah i don't think he goes to usf, he lives aro..."
      ]
     },
     "execution_count": 6,
     "metadata": {},
     "output_type": "execute_result"
    }
   ],
   "source": [
    "# Part 2:  Convert to lower case\n",
    "\n",
    "df['message'] = df['message'].str.lower()\n",
    "df.head()"
   ]
  },
  {
   "cell_type": "code",
   "execution_count": 10,
   "metadata": {},
   "outputs": [
    {
     "name": "stdout",
     "output_type": "stream",
     "text": [
      "There are 4825 Ham messages, and it is 86.594% of total messages\n",
      "There are 747 Spam messages, and it is 13.406% of total messages\n"
     ]
    }
   ],
   "source": [
    "# Part 3 - number of SMS messages of each type\n",
    "\n",
    "ham_counter = df['label'].value_counts()[0]\n",
    "spam_counter = df['label'].value_counts()[1]\n",
    "total_counter = df['label'].count()\n",
    "\n",
    "print(\"There are\", ham_counter, \"Ham messages, and it is %.3f%% of total messages\" % (ham_counter/total_counter*100))\n",
    "print(\"There are\", spam_counter, \"Spam messages, and it is %.3f%% of total messages\" % (spam_counter/total_counter*100))\n"
   ]
  },
  {
   "cell_type": "code",
   "execution_count": 11,
   "metadata": {},
   "outputs": [
    {
     "name": "stderr",
     "output_type": "stream",
     "text": [
      "C:\\Users\\royef\\AppData\\Local\\Temp\\ipykernel_21784\\208824974.py:5: FutureWarning: The default value of regex will change from True to False in a future version.\n",
      "  df['message'] = df.message.str.replace('[^\\w\\s]', '')  # option 2\n"
     ]
    },
    {
     "data": {
      "text/html": [
       "<div>\n",
       "<style scoped>\n",
       "    .dataframe tbody tr th:only-of-type {\n",
       "        vertical-align: middle;\n",
       "    }\n",
       "\n",
       "    .dataframe tbody tr th {\n",
       "        vertical-align: top;\n",
       "    }\n",
       "\n",
       "    .dataframe thead th {\n",
       "        text-align: right;\n",
       "    }\n",
       "</style>\n",
       "<table border=\"1\" class=\"dataframe\">\n",
       "  <thead>\n",
       "    <tr style=\"text-align: right;\">\n",
       "      <th></th>\n",
       "      <th>label</th>\n",
       "      <th>message</th>\n",
       "    </tr>\n",
       "  </thead>\n",
       "  <tbody>\n",
       "    <tr>\n",
       "      <th>0</th>\n",
       "      <td>0</td>\n",
       "      <td>go until jurong point crazy available only in ...</td>\n",
       "    </tr>\n",
       "    <tr>\n",
       "      <th>1</th>\n",
       "      <td>0</td>\n",
       "      <td>ok lar joking wif u oni</td>\n",
       "    </tr>\n",
       "    <tr>\n",
       "      <th>2</th>\n",
       "      <td>1</td>\n",
       "      <td>free entry in 2 a wkly comp to win fa cup fina...</td>\n",
       "    </tr>\n",
       "    <tr>\n",
       "      <th>3</th>\n",
       "      <td>0</td>\n",
       "      <td>u dun say so early hor u c already then say</td>\n",
       "    </tr>\n",
       "    <tr>\n",
       "      <th>4</th>\n",
       "      <td>0</td>\n",
       "      <td>nah i dont think he goes to usf he lives aroun...</td>\n",
       "    </tr>\n",
       "  </tbody>\n",
       "</table>\n",
       "</div>"
      ],
      "text/plain": [
       "   label                                            message\n",
       "0      0  go until jurong point crazy available only in ...\n",
       "1      0                            ok lar joking wif u oni\n",
       "2      1  free entry in 2 a wkly comp to win fa cup fina...\n",
       "3      0        u dun say so early hor u c already then say\n",
       "4      0  nah i dont think he goes to usf he lives aroun..."
      ]
     },
     "execution_count": 11,
     "metadata": {},
     "output_type": "execute_result"
    }
   ],
   "source": [
    "# part 4 - provided free of charge. \n",
    "# removinhg punctuation\n",
    "\n",
    "#df['message'] = df['message'].str.strip()\n",
    "df['message'] = df.message.str.replace('[^\\w\\s]', '')  # option 2\n",
    "df.head()"
   ]
  },
  {
   "cell_type": "markdown",
   "metadata": {},
   "source": [
    "## 3. Data preprocessing using nltk package\n",
    "\n",
    "nltk - natural language toolkit package is a package that processes text. We will use it to separate words and use their counts.\n",
    "\n",
    "But first, let's see how this works"
   ]
  },
  {
   "cell_type": "markdown",
   "metadata": {},
   "source": [
    "### nltk example"
   ]
  },
  {
   "cell_type": "code",
   "execution_count": 12,
   "metadata": {},
   "outputs": [],
   "source": [
    "import nltk"
   ]
  },
  {
   "cell_type": "code",
   "execution_count": 13,
   "metadata": {},
   "outputs": [
    {
     "name": "stderr",
     "output_type": "stream",
     "text": [
      "[nltk_data] Downloading package punkt to\n",
      "[nltk_data]     C:\\Users\\royef\\AppData\\Roaming\\nltk_data...\n",
      "[nltk_data]   Package punkt is already up-to-date!\n"
     ]
    },
    {
     "data": {
      "text/plain": [
       "['At',\n",
       " 'eight',\n",
       " \"o'clock\",\n",
       " 'on',\n",
       " 'Thursday',\n",
       " 'morning',\n",
       " 'Arthur',\n",
       " 'did',\n",
       " \"n't\",\n",
       " 'feel',\n",
       " 'very',\n",
       " 'good']"
      ]
     },
     "execution_count": 13,
     "metadata": {},
     "output_type": "execute_result"
    }
   ],
   "source": [
    "nltk.download('punkt') # - in case stuff is missing/not working\n",
    "\n",
    "# break sentence into tokens (words)\n",
    "sentence = 'At eight o\\'clock on Thursday morning Arthur didn\\'t feel very good '\n",
    "tokens = nltk.word_tokenize(sentence)\n",
    "tokens\n",
    "\n"
   ]
  },
  {
   "cell_type": "code",
   "execution_count": 14,
   "metadata": {},
   "outputs": [
    {
     "name": "stdout",
     "output_type": "stream",
     "text": [
      "python\n",
      "python\n",
      "python\n",
      "python\n",
      "python\n",
      "pythonli\n",
      "python\n"
     ]
    }
   ],
   "source": [
    "# Remove tenses and conjugations of words\n",
    "from nltk.stem import PorterStemmer\n",
    "\n",
    "ps = PorterStemmer()   # this is a particular algoirthm\n",
    "\n",
    "\n",
    "example_words = [\"python\",\"pythoner\",\"pythoning\",\"pythoned\", \"pythoned\", \"pythonly\", \"pythonant\"]\n",
    "for w in example_words:\n",
    "    print(ps.stem(w))    \n",
    "    "
   ]
  },
  {
   "cell_type": "code",
   "execution_count": 15,
   "metadata": {},
   "outputs": [
    {
     "name": "stdout",
     "output_type": "stream",
     "text": [
      "it is import to be veri pythonli while you are python with python . all python have python poorli at least onc .\n"
     ]
    }
   ],
   "source": [
    "text = \"It is important to be very pythonly while you are pythoning with python. \\\n",
    "            All pythoners have pythoned poorly at least once.\"\n",
    "\n",
    "words = nltk.word_tokenize(text)\n",
    "new_text = []\n",
    "for w in words:\n",
    "    #print(ps.stem(w))\n",
    "    new_text.append(ps.stem(w))\n",
    "    \n",
    "print (' '.join(new_text))"
   ]
  },
  {
   "cell_type": "markdown",
   "metadata": {},
   "source": [
    "### Back to SMS messages"
   ]
  },
  {
   "cell_type": "markdown",
   "metadata": {},
   "source": [
    "Separating messages into words - i.e., tokenizing"
   ]
  },
  {
   "cell_type": "code",
   "execution_count": 16,
   "metadata": {},
   "outputs": [],
   "source": [
    "df2 = df.copy()\n",
    "df2['message'] = df2['message'].apply(nltk.word_tokenize)  \n",
    "\n",
    "# NOTE: using df2, because otherwise you can't run this twice. \n",
    "# word_tokenize takes as argument a string, and after this is done,\n",
    "# the contents of df['message'] is a list"
   ]
  },
  {
   "cell_type": "code",
   "execution_count": 17,
   "metadata": {},
   "outputs": [
    {
     "data": {
      "text/html": [
       "<div>\n",
       "<style scoped>\n",
       "    .dataframe tbody tr th:only-of-type {\n",
       "        vertical-align: middle;\n",
       "    }\n",
       "\n",
       "    .dataframe tbody tr th {\n",
       "        vertical-align: top;\n",
       "    }\n",
       "\n",
       "    .dataframe thead th {\n",
       "        text-align: right;\n",
       "    }\n",
       "</style>\n",
       "<table border=\"1\" class=\"dataframe\">\n",
       "  <thead>\n",
       "    <tr style=\"text-align: right;\">\n",
       "      <th></th>\n",
       "      <th>label</th>\n",
       "      <th>message</th>\n",
       "    </tr>\n",
       "  </thead>\n",
       "  <tbody>\n",
       "    <tr>\n",
       "      <th>0</th>\n",
       "      <td>0</td>\n",
       "      <td>[go, until, jurong, point, crazy, available, o...</td>\n",
       "    </tr>\n",
       "    <tr>\n",
       "      <th>1</th>\n",
       "      <td>0</td>\n",
       "      <td>[ok, lar, joking, wif, u, oni]</td>\n",
       "    </tr>\n",
       "    <tr>\n",
       "      <th>2</th>\n",
       "      <td>1</td>\n",
       "      <td>[free, entry, in, 2, a, wkly, comp, to, win, f...</td>\n",
       "    </tr>\n",
       "    <tr>\n",
       "      <th>3</th>\n",
       "      <td>0</td>\n",
       "      <td>[u, dun, say, so, early, hor, u, c, already, t...</td>\n",
       "    </tr>\n",
       "    <tr>\n",
       "      <th>4</th>\n",
       "      <td>0</td>\n",
       "      <td>[nah, i, dont, think, he, goes, to, usf, he, l...</td>\n",
       "    </tr>\n",
       "  </tbody>\n",
       "</table>\n",
       "</div>"
      ],
      "text/plain": [
       "   label                                            message\n",
       "0      0  [go, until, jurong, point, crazy, available, o...\n",
       "1      0                     [ok, lar, joking, wif, u, oni]\n",
       "2      1  [free, entry, in, 2, a, wkly, comp, to, win, f...\n",
       "3      0  [u, dun, say, so, early, hor, u, c, already, t...\n",
       "4      0  [nah, i, dont, think, he, goes, to, usf, he, l..."
      ]
     },
     "execution_count": 17,
     "metadata": {},
     "output_type": "execute_result"
    }
   ],
   "source": [
    "df2.head()"
   ]
  },
  {
   "cell_type": "markdown",
   "metadata": {},
   "source": [
    "Applying Porter Stemmer to the words of each message"
   ]
  },
  {
   "cell_type": "code",
   "execution_count": 18,
   "metadata": {},
   "outputs": [],
   "source": [
    "df2['message'] = df2['message'].apply(lambda x: [ps.stem(y) for y in x])"
   ]
  },
  {
   "cell_type": "code",
   "execution_count": 19,
   "metadata": {},
   "outputs": [
    {
     "data": {
      "text/html": [
       "<div>\n",
       "<style scoped>\n",
       "    .dataframe tbody tr th:only-of-type {\n",
       "        vertical-align: middle;\n",
       "    }\n",
       "\n",
       "    .dataframe tbody tr th {\n",
       "        vertical-align: top;\n",
       "    }\n",
       "\n",
       "    .dataframe thead th {\n",
       "        text-align: right;\n",
       "    }\n",
       "</style>\n",
       "<table border=\"1\" class=\"dataframe\">\n",
       "  <thead>\n",
       "    <tr style=\"text-align: right;\">\n",
       "      <th></th>\n",
       "      <th>label</th>\n",
       "      <th>message</th>\n",
       "    </tr>\n",
       "  </thead>\n",
       "  <tbody>\n",
       "    <tr>\n",
       "      <th>0</th>\n",
       "      <td>0</td>\n",
       "      <td>[go, until, jurong, point, crazi, avail, onli,...</td>\n",
       "    </tr>\n",
       "    <tr>\n",
       "      <th>1</th>\n",
       "      <td>0</td>\n",
       "      <td>[ok, lar, joke, wif, u, oni]</td>\n",
       "    </tr>\n",
       "    <tr>\n",
       "      <th>2</th>\n",
       "      <td>1</td>\n",
       "      <td>[free, entri, in, 2, a, wkli, comp, to, win, f...</td>\n",
       "    </tr>\n",
       "    <tr>\n",
       "      <th>3</th>\n",
       "      <td>0</td>\n",
       "      <td>[u, dun, say, so, earli, hor, u, c, alreadi, t...</td>\n",
       "    </tr>\n",
       "    <tr>\n",
       "      <th>4</th>\n",
       "      <td>0</td>\n",
       "      <td>[nah, i, dont, think, he, goe, to, usf, he, li...</td>\n",
       "    </tr>\n",
       "  </tbody>\n",
       "</table>\n",
       "</div>"
      ],
      "text/plain": [
       "   label                                            message\n",
       "0      0  [go, until, jurong, point, crazi, avail, onli,...\n",
       "1      0                       [ok, lar, joke, wif, u, oni]\n",
       "2      1  [free, entri, in, 2, a, wkli, comp, to, win, f...\n",
       "3      0  [u, dun, say, so, earli, hor, u, c, alreadi, t...\n",
       "4      0  [nah, i, dont, think, he, goe, to, usf, he, li..."
      ]
     },
     "execution_count": 19,
     "metadata": {},
     "output_type": "execute_result"
    }
   ],
   "source": [
    "df2.head()"
   ]
  },
  {
   "cell_type": "markdown",
   "metadata": {},
   "source": [
    "## 4.  Data Preprocessing using sklearn"
   ]
  },
  {
   "cell_type": "markdown",
   "metadata": {},
   "source": [
    "### Counting words - example first\n",
    "\n",
    "Convert a collection of text documents to a matrix of token counts"
   ]
  },
  {
   "cell_type": "code",
   "execution_count": 20,
   "metadata": {},
   "outputs": [
    {
     "name": "stdout",
     "output_type": "stream",
     "text": [
      "['and' 'document' 'first' 'is' 'one' 'second' 'the' 'third' 'this']\n",
      "\n",
      "  (0, 8)\t1\n",
      "  (0, 3)\t1\n",
      "  (0, 6)\t1\n",
      "  (0, 2)\t1\n",
      "  (0, 1)\t1\n",
      "  (1, 8)\t1\n",
      "  (1, 3)\t1\n",
      "  (1, 6)\t1\n",
      "  (1, 1)\t2\n",
      "  (1, 5)\t1\n",
      "  (2, 8)\t1\n",
      "  (2, 3)\t1\n",
      "  (2, 6)\t1\n",
      "  (2, 0)\t1\n",
      "  (2, 7)\t1\n",
      "  (2, 4)\t1\n",
      "  (3, 8)\t1\n",
      "  (3, 3)\t1\n",
      "  (3, 6)\t1\n",
      "  (3, 2)\t1\n",
      "  (3, 1)\t1\n",
      "\n",
      "[[0 1 1 1 0 0 1 0 1]\n",
      " [0 2 0 1 0 1 1 0 1]\n",
      " [1 0 0 1 1 0 1 1 1]\n",
      " [0 1 1 1 0 0 1 0 1]]\n"
     ]
    }
   ],
   "source": [
    "from sklearn.feature_extraction.text import CountVectorizer\n",
    "text_collection = ['This is the first document.',\n",
    "                   'This document is the second document.',\n",
    "                   'And this is the third one.',\n",
    "                   'Is this the first document?']\n",
    "\n",
    "vectorizer = CountVectorizer()\n",
    "X = vectorizer.fit_transform(text_collection) # vocabulary dictionary of all tokens in documents, aka: features\n",
    "\n",
    "print(vectorizer.get_feature_names_out())   # prints the distinct words\n",
    "print ()\n",
    "\n",
    "print (X)           # first index - line of text\n",
    "                    # secobd index - index of feature that appears in the line. \n",
    "                    # second index is oredered by features array not by order in which they appear in the line \n",
    "print ()\n",
    "print(X.toarray())  # Each row of the matrix indicates which features appear in the correspoding line \n",
    "                    # (order is not preserved, of course). For example, in row 2, the seond value is 2, \n",
    "                    # which means that the feature 'document' appears twice in the second line. As is the case"
   ]
  },
  {
   "cell_type": "markdown",
   "metadata": {},
   "source": [
    "### Word count per message on df2"
   ]
  },
  {
   "cell_type": "code",
   "execution_count": 21,
   "metadata": {},
   "outputs": [
    {
     "data": {
      "text/html": [
       "<div>\n",
       "<style scoped>\n",
       "    .dataframe tbody tr th:only-of-type {\n",
       "        vertical-align: middle;\n",
       "    }\n",
       "\n",
       "    .dataframe tbody tr th {\n",
       "        vertical-align: top;\n",
       "    }\n",
       "\n",
       "    .dataframe thead th {\n",
       "        text-align: right;\n",
       "    }\n",
       "</style>\n",
       "<table border=\"1\" class=\"dataframe\">\n",
       "  <thead>\n",
       "    <tr style=\"text-align: right;\">\n",
       "      <th></th>\n",
       "      <th>label</th>\n",
       "      <th>message</th>\n",
       "    </tr>\n",
       "  </thead>\n",
       "  <tbody>\n",
       "    <tr>\n",
       "      <th>0</th>\n",
       "      <td>0</td>\n",
       "      <td>go until jurong point crazi avail onli in bugi...</td>\n",
       "    </tr>\n",
       "    <tr>\n",
       "      <th>1</th>\n",
       "      <td>0</td>\n",
       "      <td>ok lar joke wif u oni</td>\n",
       "    </tr>\n",
       "    <tr>\n",
       "      <th>2</th>\n",
       "      <td>1</td>\n",
       "      <td>free entri in 2 a wkli comp to win fa cup fina...</td>\n",
       "    </tr>\n",
       "    <tr>\n",
       "      <th>3</th>\n",
       "      <td>0</td>\n",
       "      <td>u dun say so earli hor u c alreadi then say</td>\n",
       "    </tr>\n",
       "    <tr>\n",
       "      <th>4</th>\n",
       "      <td>0</td>\n",
       "      <td>nah i dont think he goe to usf he live around ...</td>\n",
       "    </tr>\n",
       "  </tbody>\n",
       "</table>\n",
       "</div>"
      ],
      "text/plain": [
       "   label                                            message\n",
       "0      0  go until jurong point crazi avail onli in bugi...\n",
       "1      0                              ok lar joke wif u oni\n",
       "2      1  free entri in 2 a wkli comp to win fa cup fina...\n",
       "3      0        u dun say so earli hor u c alreadi then say\n",
       "4      0  nah i dont think he goe to usf he live around ..."
      ]
     },
     "execution_count": 21,
     "metadata": {},
     "output_type": "execute_result"
    }
   ],
   "source": [
    "# This converts the list of words into space-separated strings - so we're back to a phrase for each message \n",
    "df3 = df2.copy()\n",
    "df3['message'] = df3['message'].apply(lambda x: ' '.join(x))\n",
    "df3.head()"
   ]
  },
  {
   "cell_type": "code",
   "execution_count": 22,
   "metadata": {},
   "outputs": [],
   "source": [
    "count_vect = CountVectorizer()\n",
    "counts = count_vect.fit_transform(df3['message'])"
   ]
  },
  {
   "cell_type": "code",
   "execution_count": 23,
   "metadata": {},
   "outputs": [
    {
     "name": "stdout",
     "output_type": "stream",
     "text": [
      "['008704050406' '0089mi' '0121' ... 'zouk' 'zyada' 'üll']\n"
     ]
    }
   ],
   "source": [
    "print (count_vect.get_feature_names_out())"
   ]
  },
  {
   "cell_type": "code",
   "execution_count": 24,
   "metadata": {},
   "outputs": [
    {
     "name": "stdout",
     "output_type": "stream",
     "text": [
      "  (0, 3336)\t1\n",
      "  (0, 7497)\t1\n",
      "  (0, 4128)\t1\n",
      "  (0, 5635)\t1\n",
      "  (0, 2248)\t1\n",
      "  (0, 1340)\t1\n",
      "  (0, 5292)\t1\n",
      "  (0, 3872)\t1\n",
      "  (0, 1750)\t1\n",
      "  (0, 3425)\t1\n",
      "  (0, 7925)\t1\n",
      "  (0, 4273)\t1\n",
      "  (0, 1748)\t1\n",
      "  (0, 2029)\t1\n",
      "  (0, 7130)\t1\n",
      "  (0, 3388)\t1\n",
      "  (0, 1146)\t1\n",
      "  (0, 7715)\t1\n",
      "  (1, 5257)\t1\n",
      "  (1, 4308)\t1\n",
      "  (1, 4094)\t1\n",
      "  (1, 7835)\t1\n",
      "  (1, 5289)\t1\n",
      "  (2, 3872)\t1\n",
      "  (2, 3148)\t1\n",
      "  :\t:\n",
      "  (5570, 7754)\t1\n",
      "  (5570, 1160)\t1\n",
      "  (5570, 3823)\t1\n",
      "  (5570, 4396)\t1\n",
      "  (5570, 6587)\t1\n",
      "  (5570, 3105)\t1\n",
      "  (5570, 7109)\t1\n",
      "  (5570, 1463)\t1\n",
      "  (5570, 5048)\t1\n",
      "  (5570, 2492)\t1\n",
      "  (5570, 7534)\t1\n",
      "  (5570, 1773)\t1\n",
      "  (5570, 6596)\t1\n",
      "  (5570, 1777)\t1\n",
      "  (5570, 2760)\t1\n",
      "  (5570, 3255)\t1\n",
      "  (5570, 3477)\t1\n",
      "  (5570, 3940)\t1\n",
      "  (5570, 983)\t1\n",
      "  (5570, 1563)\t1\n",
      "  (5571, 7236)\t1\n",
      "  (5571, 3987)\t2\n",
      "  (5571, 4970)\t1\n",
      "  (5571, 7366)\t1\n",
      "  (5571, 6114)\t1\n"
     ]
    }
   ],
   "source": [
    "print (counts)  "
   ]
  },
  {
   "cell_type": "markdown",
   "metadata": {},
   "source": [
    " Observe that first index runs until 5571, because there 5572 messages"
   ]
  },
  {
   "cell_type": "code",
   "execution_count": 25,
   "metadata": {},
   "outputs": [
    {
     "name": "stdout",
     "output_type": "stream",
     "text": [
      "[[0 0 0 ... 0 0 0]\n",
      " [0 0 0 ... 0 0 0]\n",
      " [0 0 0 ... 0 0 0]\n",
      " ...\n",
      " [0 0 0 ... 0 0 0]\n",
      " [0 0 0 ... 0 0 0]\n",
      " [0 0 0 ... 0 0 0]]\n"
     ]
    }
   ],
   "source": [
    "print(counts.toarray())  # this is a very sparse matrix"
   ]
  },
  {
   "cell_type": "code",
   "execution_count": 26,
   "metadata": {},
   "outputs": [
    {
     "name": "stdout",
     "output_type": "stream",
     "text": [
      "(5572, 8169)\n",
      "  (0, 3336)\t1\n",
      "  (0, 7497)\t1\n",
      "  (0, 4128)\t1\n",
      "  (0, 5635)\t1\n",
      "  (0, 2248)\t1\n",
      "  (0, 1340)\t1\n",
      "  (0, 5292)\t1\n",
      "  (0, 3872)\t1\n",
      "  (0, 1750)\t1\n",
      "  (0, 3425)\t1\n",
      "  (0, 7925)\t1\n",
      "  (0, 4273)\t1\n",
      "  (0, 1748)\t1\n",
      "  (0, 2029)\t1\n",
      "  (0, 7130)\t1\n",
      "  (0, 3388)\t1\n",
      "  (0, 1146)\t1\n",
      "  (0, 7715)\t1\n",
      "  (1, 5257)\t1\n",
      "  (1, 4308)\t1\n",
      "  (1, 4094)\t1\n",
      "  (1, 7835)\t1\n",
      "  (1, 5289)\t1\n",
      "  (2, 3872)\t1\n",
      "  (2, 3148)\t1\n",
      "  :\t:\n",
      "  (5570, 7754)\t1\n",
      "  (5570, 1160)\t1\n",
      "  (5570, 3823)\t1\n",
      "  (5570, 4396)\t1\n",
      "  (5570, 6587)\t1\n",
      "  (5570, 3105)\t1\n",
      "  (5570, 7109)\t1\n",
      "  (5570, 1463)\t1\n",
      "  (5570, 5048)\t1\n",
      "  (5570, 2492)\t1\n",
      "  (5570, 7534)\t1\n",
      "  (5570, 1773)\t1\n",
      "  (5570, 6596)\t1\n",
      "  (5570, 1777)\t1\n",
      "  (5570, 2760)\t1\n",
      "  (5570, 3255)\t1\n",
      "  (5570, 3477)\t1\n",
      "  (5570, 3940)\t1\n",
      "  (5570, 983)\t1\n",
      "  (5570, 1563)\t1\n",
      "  (5571, 7236)\t1\n",
      "  (5571, 3987)\t2\n",
      "  (5571, 4970)\t1\n",
      "  (5571, 7366)\t1\n",
      "  (5571, 6114)\t1\n"
     ]
    }
   ],
   "source": [
    "print (counts.shape)\n",
    "#print (counts[0,7191])\n",
    "\n",
    "print (counts) "
   ]
  },
  {
   "cell_type": "markdown",
   "metadata": {},
   "source": [
    "## 5. Training the model"
   ]
  },
  {
   "cell_type": "code",
   "execution_count": 28,
   "metadata": {},
   "outputs": [
    {
     "name": "stdout",
     "output_type": "stream",
     "text": [
      "(5014, 8169)\n",
      "(5014,)\n",
      "(558, 8169)\n"
     ]
    }
   ],
   "source": [
    "from sklearn.model_selection import train_test_split\n",
    "\n",
    "# split data into train and test\n",
    "X_train, X_test, y_train, y_test = train_test_split(counts, df['label'], test_size=0.1, random_state=120)\n",
    "\n",
    "print (X_train.shape)   # each row has 7536 features (all possible words) \n",
    "print (y_train.shape)   # recall, label is ham or spam (1 or 0)\n",
    "print (X_test.shape)\n",
    "\n"
   ]
  },
  {
   "cell_type": "markdown",
   "metadata": {},
   "source": [
    "Initialize a Naive Bayes Classifier and fit the data. For text classification problems, the Multinomial Naive Bayes Classifier is well-suited."
   ]
  },
  {
   "cell_type": "code",
   "execution_count": 29,
   "metadata": {},
   "outputs": [],
   "source": [
    "from sklearn.naive_bayes import MultinomialNB\n",
    "\n",
    "model = MultinomialNB().fit(X_train, y_train)"
   ]
  },
  {
   "cell_type": "markdown",
   "metadata": {},
   "source": [
    "## 6. Evaluating the Model\n"
   ]
  },
  {
   "cell_type": "code",
   "execution_count": 30,
   "metadata": {},
   "outputs": [
    {
     "name": "stdout",
     "output_type": "stream",
     "text": [
      "Model accuracy on test set: 97.8%\n"
     ]
    }
   ],
   "source": [
    "import numpy as np\n",
    "\n",
    "y_test_pred = model.predict(X_test)\n",
    "print('Model accuracy on test set: %.1f%%' % (100*np.mean(y_test_pred == y_test)))"
   ]
  },
  {
   "cell_type": "markdown",
   "metadata": {},
   "source": [
    "The Naive Bayes Classifier has 98.2% accuracy on this specific test set. Is this good? Well, maybe... \n",
    "\n",
    "The data is skewed. 86.6% is ham and 13.4% is spam. So a really dumb classifier that classifies all messages as ham would have a 86.6% accuracy. "
   ]
  },
  {
   "cell_type": "markdown",
   "metadata": {},
   "source": [
    "# Exercise:\n",
    "\n",
    "1. Print the confusion matrix\n",
    "2. What are the precision and recall and F1 scores?\n",
    "3. Plot ROC, and calculate AUC\n",
    "4. What is your conclusion?"
   ]
  },
  {
   "cell_type": "markdown",
   "metadata": {
    "collapsed": true
   },
   "source": [
    "# Solution:"
   ]
  },
  {
   "cell_type": "code",
   "execution_count": 31,
   "metadata": {},
   "outputs": [
    {
     "data": {
      "text/html": [
       "<div>\n",
       "<style scoped>\n",
       "    .dataframe tbody tr th:only-of-type {\n",
       "        vertical-align: middle;\n",
       "    }\n",
       "\n",
       "    .dataframe tbody tr th {\n",
       "        vertical-align: top;\n",
       "    }\n",
       "\n",
       "    .dataframe thead th {\n",
       "        text-align: right;\n",
       "    }\n",
       "</style>\n",
       "<table border=\"1\" class=\"dataframe\">\n",
       "  <thead>\n",
       "    <tr style=\"text-align: right;\">\n",
       "      <th></th>\n",
       "      <th>Pred 0</th>\n",
       "      <th>Pred 1</th>\n",
       "    </tr>\n",
       "  </thead>\n",
       "  <tbody>\n",
       "    <tr>\n",
       "      <th>True 0</th>\n",
       "      <td>459</td>\n",
       "      <td>9</td>\n",
       "    </tr>\n",
       "    <tr>\n",
       "      <th>True 1</th>\n",
       "      <td>3</td>\n",
       "      <td>87</td>\n",
       "    </tr>\n",
       "  </tbody>\n",
       "</table>\n",
       "</div>"
      ],
      "text/plain": [
       "        Pred 0  Pred 1\n",
       "True 0     459       9\n",
       "True 1       3      87"
      ]
     },
     "execution_count": 31,
     "metadata": {},
     "output_type": "execute_result"
    }
   ],
   "source": [
    "from sklearn.metrics import confusion_matrix\n",
    "\n",
    "#Confusion matrix\n",
    "x = confusion_matrix(y_test, y_test_pred)\n",
    "pd.DataFrame(x, index=['True 0', 'True 1'], columns=['Pred 0', 'Pred 1'])"
   ]
  },
  {
   "cell_type": "code",
   "execution_count": 32,
   "metadata": {},
   "outputs": [
    {
     "name": "stdout",
     "output_type": "stream",
     "text": [
      "Precision by sklearn: 90.625%\n",
      "Precision by formula: 90.625%\n"
     ]
    }
   ],
   "source": [
    "from sklearn.metrics import precision_score\n",
    "\n",
    "#calculate Precision using sklearn\n",
    "precision_sklearn = precision_score(y_test, y_test_pred)\n",
    "\n",
    "print('Precision by sklearn:', format(precision_sklearn,'.3%'))\n",
    "\n",
    "#calculate Precision using formula\n",
    "tp = np.sum((y_test == 1) & (y_test_pred == 1))\n",
    "fp = np.sum((y_test == 0) & (y_test_pred == 1))\n",
    "precision_formula = tp / (tp + fp)\n",
    "\n",
    "print('Precision by formula:', format(precision_formula,'.3%'))"
   ]
  },
  {
   "cell_type": "code",
   "execution_count": 33,
   "metadata": {},
   "outputs": [
    {
     "name": "stdout",
     "output_type": "stream",
     "text": [
      "Recall by sklearn: 96.667%\n",
      "Recall by formula: 96.667%\n"
     ]
    }
   ],
   "source": [
    "from sklearn.metrics import recall_score\n",
    "\n",
    "#calculate recall using sklearn\n",
    "recall_sklearn = recall_score(y_test, y_test_pred)\n",
    "\n",
    "print('Recall by sklearn:', format(recall_sklearn,'.3%'))\n",
    "\n",
    "#calculate recall using formula\n",
    "tp = np.sum((y_test == 1) & (y_test_pred == 1))\n",
    "fn = np.sum((y_test == 1) & (y_test_pred == 0))\n",
    "recall_formula = tp / (tp + fn)\n",
    "\n",
    "print('Recall by formula:', format(recall_formula,'.3%'))"
   ]
  },
  {
   "cell_type": "code",
   "execution_count": 41,
   "metadata": {},
   "outputs": [
    {
     "name": "stdout",
     "output_type": "stream",
     "text": [
      "F1 score by sklearn: 93.548%\n",
      "F1 score by formula: 93.548%\n"
     ]
    }
   ],
   "source": [
    "from sklearn.metrics import f1_score\n",
    "\n",
    "#calculate F1 score using sklearn\n",
    "f1_sklearn = f1_score(y_test, y_test_pred)\n",
    "print('F1 score by sklearn:', format(f1_sklearn,'.3%'))\n",
    "\n",
    "# calculate F1 score using formula\n",
    "f1_formula = 2 * (precision_formula * recall_formula) / (precision_formula + recall_formula)\n",
    "\n",
    "print('F1 score by formula:', format(f1_formula,'.3%'))"
   ]
  },
  {
   "cell_type": "code",
   "execution_count": 48,
   "metadata": {
    "scrolled": true
   },
   "outputs": [
    {
     "data": {
      "image/png": "[encoded data removed]",
      "text/plain": [
       "<Figure size 640x480 with 1 Axes>"
      ]
     },
     "metadata": {},
     "output_type": "display_data"
    }
   ],
   "source": [
    "from sklearn.metrics import roc_curve\n",
    "import matplotlib.pyplot as plt\n",
    "import numpy as np\n",
    "from sklearn.metrics import roc_curve, roc_auc_score, auc\n",
    "\n",
    "#Predicted probabilities for ROC \n",
    "y_prob_both = model.predict_proba(X_test)\n",
    "y_prob_spam = y_prob_both[: , 1]\n",
    "\n",
    "#Compute the FPR, TPR, and threshold values \n",
    "fpr, tpr, thresholds = roc_curve(y_test, y_prob_spam)\n",
    "\n",
    "# Compute the AUC score\n",
    "auc = auc(fpr,tpr)\n",
    "\n",
    "#Plot the ROC curve\n",
    "plt.plot(fpr, tpr, label='ROC curve - AUC = %.3f%%' % (auc*100))\n",
    "\n",
    "#Plot the ROC curve for the random classifier\n",
    "plt.plot([0, 1], [0, 1], '--',label='Random classifier') \n",
    "\n",
    "#Set the x and y axis limits\n",
    "plt.xlim([-0.01, 1])\n",
    "plt.ylim([0, 1.01])\n",
    "\n",
    "plt.xlabel('False Positive Rate')\n",
    "plt.ylabel('True Positive Rate')\n",
    "plt.title('ROC Curve')\n",
    "plt.legend()\n",
    "plt.show()"
   ]
  },
  {
   "cell_type": "markdown",
   "metadata": {},
   "source": [
    "## My conclusion \n",
    "- Based on the evaluation metrics, I can conclude that the model is performing well in predicting ham and spam SMS messages. The precision of 90.625% indicates that when the model predicts a message as spam, it is correct 90.625% of the time. The recall of 96.667% suggests that the model is able to correctly identify 96.667% of all spam messages.\n",
    "\n",
    "\n",
    "- The F1 score of 93.548% is a balanced measure of precision and recall, and indicates that the model has a good overall performance. The ROC curve and AUC score of 99.088% also support the conclusion that the model has high discriminatory power in distinguishing between ham and spam messages.\n",
    "\n",
    "\n",
    "- However, it's important to note that the dataset has a class imbalance, with 86.2% of the messages labeled as 'ham'. This may affect the model's performance and the evaluation metrics should be interpreted with caution. It's important to evaluate the model on multiple datasets and using different evaluation metrics to get a more comprehensive understanding of its performance."
   ]
  }
 ],
 "metadata": {
  "kernelspec": {
   "display_name": "Python 3 (ipykernel)",
   "language": "python",
   "name": "python3"
  },
  "language_info": {
   "codemirror_mode": {
    "name": "ipython",
    "version": 3
   },
   "file_extension": ".py",
   "mimetype": "text/x-python",
   "name": "python",
   "nbconvert_exporter": "python",
   "pygments_lexer": "ipython3",
   "version": "3.9.13"
  }
 },
 "nbformat": 4,
 "nbformat_minor": 2
}
